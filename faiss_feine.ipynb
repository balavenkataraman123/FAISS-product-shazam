{
 "cells": [
  {
   "cell_type": "code",
   "execution_count": 2,
   "metadata": {},
   "outputs": [],
   "source": [
    "import torch \n",
    "import torchvision.transforms as T\n",
    "from transformers import AutoFeatureExtractor, AutoModel\n",
    "from PIL import Image\n",
    "import numpy as np\n",
    "import pandas as pd\n",
    "import os\n",
    "import faiss\n",
    "\n",
    "\n",
    "model_ckpt = \"google/vit-base-patch16-224-in21k\"\n",
    "model = AutoModel.from_pretrained(model_ckpt)\n",
    "hidden_dim = model.config.hidden_size\n",
    "\n",
    "#prepare the image\n",
    "transformation_chain = T.Compose(\n",
    "    [\n",
    "        # resize and tensorize\n",
    "        T.Resize((224,224)),\n",
    "        T.ToTensor()\n",
    "    ]\n",
    ")"
   ]
  },
  {
   "cell_type": "code",
   "execution_count": 3,
   "metadata": {},
   "outputs": [],
   "source": [
    "def extract_embeddings(model: torch.nn.Module, images):\n",
    "    device = model.device\n",
    "\n",
    "\n",
    "    # `transformation_chain` is a compostion of preprocessing\n",
    "    # transformations we apply to the input images to prepare them\n",
    "    # for the model. For more details, check out the accompanying Colab Notebook.\n",
    "    image_batch_transformed = torch.stack(\n",
    "        [transformation_chain(image) for image in images]\n",
    "    )\n",
    "    new_batch = image_batch_transformed.to(device)\n",
    "    with torch.no_grad():\n",
    "        embeddings = model(new_batch).last_hidden_state[:, 0].cpu()\n",
    "    return embeddings\n"
   ]
  },
  {
   "cell_type": "code",
   "execution_count": 5,
   "metadata": {},
   "outputs": [],
   "source": [
    "feine_filenames = os.listdir(\"feine_data/\")\n",
    "training_data = [Image.open(\"feine_data/\" + n) for n in feine_filenames]\n"
   ]
  },
  {
   "cell_type": "code",
   "execution_count": 6,
   "metadata": {},
   "outputs": [],
   "source": [
    "mdev = model.to(\"cuda\")\n",
    "intermediate_embeddings = extract_embeddings(mdev, training_data)\n",
    "embeddings = np.array([np.array(i) for i in list(intermediate_embeddings)])"
   ]
  },
  {
   "cell_type": "code",
   "execution_count": 23,
   "metadata": {},
   "outputs": [],
   "source": [
    "index = faiss.IndexFlatL2(768)\n",
    "faiss.normalize_L2(embeddings)\n",
    "index.add(embeddings)"
   ]
  },
  {
   "cell_type": "code",
   "execution_count": 29,
   "metadata": {},
   "outputs": [],
   "source": [
    "def identify_drink(image):\n",
    "    embeddings1 = extract_embeddings(mdev, [image])\n",
    "    _vector = np.array(embeddings1)\n",
    "    faiss.normalize_L2(_vector)\n",
    "    distances, ann = index.search(_vector, k=1)\n",
    "    return ann[0]"
   ]
  },
  {
   "cell_type": "code",
   "execution_count": 36,
   "metadata": {},
   "outputs": [
    {
     "name": "stdout",
     "output_type": "stream",
     "text": [
      "Actual drink: Monster_retailimage.png\n",
      "Identified: monster-absolutely-zero-energy-drink.jpg\n",
      "\n",
      "Actual drink: RedBull_handheld.png\n",
      "Identified: quake-energy-slurpee.jpg\n",
      "\n",
      "Actual drink: Monster_handheld.jpg\n",
      "Identified: monster-absolutely-zero-energy-drink.jpg\n",
      "\n",
      "Actual drink: Monster_zero_ultra_handheld.jpg\n",
      "Identified: black-bruin-energy-drink.jpg\n",
      "\n",
      "Actual drink: Monster_onDesk.jpg\n",
      "Identified: rockstar.jpg\n",
      "\n"
     ]
    }
   ],
   "source": [
    "testdata_list = os.listdir(\"feine_testing_data/\")\n",
    "testing_data = [Image.open(\"feine_testing_data/\" + n).convert(\"RGB\") for n in testdata_list]\n",
    "for i in range(len(testing_data)):\n",
    "    drinkid = identify_drink(testing_data[i])\n",
    "    print(\"Actual drink: \" + testdata_list[i])\n",
    "    print(\"Identified: \" + feine_filenames[drinkid[0]])\n",
    "    print()\n",
    "    \n"
   ]
  },
  {
   "cell_type": "code",
   "execution_count": 5,
   "metadata": {},
   "outputs": [
    {
     "data": {
      "text/html": [
       "<div>\n",
       "<style scoped>\n",
       "    .dataframe tbody tr th:only-of-type {\n",
       "        vertical-align: middle;\n",
       "    }\n",
       "\n",
       "    .dataframe tbody tr th {\n",
       "        vertical-align: top;\n",
       "    }\n",
       "\n",
       "    .dataframe thead th {\n",
       "        text-align: right;\n",
       "    }\n",
       "</style>\n",
       "<table border=\"1\" class=\"dataframe\">\n",
       "  <thead>\n",
       "    <tr style=\"text-align: right;\">\n",
       "      <th></th>\n",
       "      <th>(, None)</th>\n",
       "      <th>('', None).1</th>\n",
       "      <th>('', None).2</th>\n",
       "      <th>('', None).3</th>\n",
       "      <th>('', None).4</th>\n",
       "    </tr>\n",
       "  </thead>\n",
       "  <tbody>\n",
       "    <tr>\n",
       "      <th>0</th>\n",
       "      <td>28-energy-drink-black-white.jpg</td>\n",
       "      <td>8.46</td>\n",
       "      <td>125</td>\n",
       "      <td>80</td>\n",
       "      <td>9.5</td>\n",
       "    </tr>\n",
       "    <tr>\n",
       "      <th>1</th>\n",
       "      <td>3d-energy-drink.jpg</td>\n",
       "      <td>16</td>\n",
       "      <td>15</td>\n",
       "      <td>200</td>\n",
       "      <td>12.5</td>\n",
       "    </tr>\n",
       "    <tr>\n",
       "      <th>2</th>\n",
       "      <td>4-purpose.jpg</td>\n",
       "      <td>8.46</td>\n",
       "      <td>70</td>\n",
       "      <td>70</td>\n",
       "      <td>8.3</td>\n",
       "    </tr>\n",
       "    <tr>\n",
       "      <th>3</th>\n",
       "      <td>4-c-energy-rush.jpg</td>\n",
       "      <td>16.9</td>\n",
       "      <td>15</td>\n",
       "      <td>170</td>\n",
       "      <td>10.1</td>\n",
       "    </tr>\n",
       "    <tr>\n",
       "      <th>4</th>\n",
       "      <td>adrenaline-shoc-energy-drink.jpg</td>\n",
       "      <td>16</td>\n",
       "      <td>10</td>\n",
       "      <td>250</td>\n",
       "      <td>15.6</td>\n",
       "    </tr>\n",
       "  </tbody>\n",
       "</table>\n",
       "</div>"
      ],
      "text/plain": [
       "                           (, None) ('', None).1 ('', None).2 ('', None).3  \\\n",
       "0   28-energy-drink-black-white.jpg         8.46          125           80   \n",
       "1               3d-energy-drink.jpg           16           15          200   \n",
       "2                     4-purpose.jpg         8.46           70           70   \n",
       "3               4-c-energy-rush.jpg         16.9           15          170   \n",
       "4  adrenaline-shoc-energy-drink.jpg           16           10          250   \n",
       "\n",
       "  ('', None).4  \n",
       "0          9.5  \n",
       "1         12.5  \n",
       "2          8.3  \n",
       "3         10.1  \n",
       "4         15.6  "
      ]
     },
     "execution_count": 5,
     "metadata": {},
     "output_type": "execute_result"
    }
   ],
   "source": [
    "\n",
    "base_url = \"https://www.caffeineinformer.com/wp-content/caffeine/\"\n",
    "\n",
    "feine_df = pd.read_html('/home/bala/Documents/product_ID.ai/feine.html', extract_links = \"all\")[0]\n",
    "feine_df = feine_df.apply(lambda col: [v[0] if v[1] is None else f'{v[1].split(\"/\")[2]}.jpg' for v in  col])\n",
    "\n",
    "feine_df.head()\n",
    "\n"
   ]
  }
 ],
 "metadata": {
  "kernelspec": {
   "display_name": "mlenv",
   "language": "python",
   "name": "python3"
  },
  "language_info": {
   "codemirror_mode": {
    "name": "ipython",
    "version": 3
   },
   "file_extension": ".py",
   "mimetype": "text/x-python",
   "name": "python",
   "nbconvert_exporter": "python",
   "pygments_lexer": "ipython3",
   "version": "3.9.19"
  }
 },
 "nbformat": 4,
 "nbformat_minor": 2
}
