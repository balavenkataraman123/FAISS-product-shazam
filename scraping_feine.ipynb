{
 "cells": [
  {
   "cell_type": "code",
   "execution_count": 35,
   "metadata": {},
   "outputs": [
    {
     "data": {
      "text/html": [
       "<div>\n",
       "<style scoped>\n",
       "    .dataframe tbody tr th:only-of-type {\n",
       "        vertical-align: middle;\n",
       "    }\n",
       "\n",
       "    .dataframe tbody tr th {\n",
       "        vertical-align: top;\n",
       "    }\n",
       "\n",
       "    .dataframe thead th {\n",
       "        text-align: right;\n",
       "    }\n",
       "</style>\n",
       "<table border=\"1\" class=\"dataframe\">\n",
       "  <thead>\n",
       "    <tr style=\"text-align: right;\">\n",
       "      <th></th>\n",
       "      <th>(, None)</th>\n",
       "      <th>('', None).1</th>\n",
       "      <th>('', None).2</th>\n",
       "      <th>('', None).3</th>\n",
       "      <th>('', None).4</th>\n",
       "    </tr>\n",
       "  </thead>\n",
       "  <tbody>\n",
       "    <tr>\n",
       "      <th>0</th>\n",
       "      <td>28-energy-drink-black-white.jpg</td>\n",
       "      <td>8.46</td>\n",
       "      <td>125</td>\n",
       "      <td>80</td>\n",
       "      <td>9.5</td>\n",
       "    </tr>\n",
       "    <tr>\n",
       "      <th>1</th>\n",
       "      <td>3d-energy-drink.jpg</td>\n",
       "      <td>16</td>\n",
       "      <td>15</td>\n",
       "      <td>200</td>\n",
       "      <td>12.5</td>\n",
       "    </tr>\n",
       "    <tr>\n",
       "      <th>2</th>\n",
       "      <td>4-purpose.jpg</td>\n",
       "      <td>8.46</td>\n",
       "      <td>70</td>\n",
       "      <td>70</td>\n",
       "      <td>8.3</td>\n",
       "    </tr>\n",
       "    <tr>\n",
       "      <th>3</th>\n",
       "      <td>4-c-energy-rush.jpg</td>\n",
       "      <td>16.9</td>\n",
       "      <td>15</td>\n",
       "      <td>170</td>\n",
       "      <td>10.1</td>\n",
       "    </tr>\n",
       "    <tr>\n",
       "      <th>4</th>\n",
       "      <td>adrenaline-shoc-energy-drink.jpg</td>\n",
       "      <td>16</td>\n",
       "      <td>10</td>\n",
       "      <td>250</td>\n",
       "      <td>15.6</td>\n",
       "    </tr>\n",
       "  </tbody>\n",
       "</table>\n",
       "</div>"
      ],
      "text/plain": [
       "                           (, None) ('', None).1 ('', None).2 ('', None).3  \\\n",
       "0   28-energy-drink-black-white.jpg         8.46          125           80   \n",
       "1               3d-energy-drink.jpg           16           15          200   \n",
       "2                     4-purpose.jpg         8.46           70           70   \n",
       "3               4-c-energy-rush.jpg         16.9           15          170   \n",
       "4  adrenaline-shoc-energy-drink.jpg           16           10          250   \n",
       "\n",
       "  ('', None).4  \n",
       "0          9.5  \n",
       "1         12.5  \n",
       "2          8.3  \n",
       "3         10.1  \n",
       "4         15.6  "
      ]
     },
     "execution_count": 35,
     "metadata": {},
     "output_type": "execute_result"
    }
   ],
   "source": [
    "import pandas as pd\n",
    "import numpy as np\n",
    "import matplotlib.pyplot as plt\n",
    "from unicodedata import normalize\n",
    "\n",
    "base_url = \"https://www.caffeineinformer.com/wp-content/caffeine/\"\n",
    "\n",
    "feine_df = pd.read_html('/home/bala/Documents/product_ID.ai/feine.html', extract_links = \"all\")[0]\n",
    "feine_df = feine_df.apply(lambda col: [v[0] if v[1] is None else f'{v[1].split(\"/\")[2]}.jpg' for v in  col])\n",
    "\n",
    "feine_df.head()\n",
    "\n"
   ]
  },
  {
   "cell_type": "code",
   "execution_count": 36,
   "metadata": {},
   "outputs": [
    {
     "name": "stdout",
     "output_type": "stream",
     "text": [
      "['28-energy-drink-black-white.jpg', '3d-energy-drink.jpg', '4-purpose.jpg', '4-c-energy-rush.jpg', 'adrenaline-shoc-energy-drink.jpg', 'diet-turbo-punch.jpg', 'accelerator.jpg', 'advocare-slim.jpg', 'alani-nu.jpg', 'all-in.jpg', 'alsa-energy.jpg', 'amino-energy-drink.jpg', 'ripped-force-energy-drink.jpg', 'arbonne-energy-drink.jpg', 'arnold-palmer-half-and-half.jpg', 'arizona-caution-energy-drink.jpg', 'axio.jpg', 'bai-drink.jpg', 'bai-boost.jpg', 'bang-energy-drink.jpg', 'bang-keto-coffee.jpg', 'bang-natural.jpg', 'bang-tea.jpg', 'be-beyond-energy.jpg', 'beaver-buzz-energy-drink.jpg', 'beebad-energy-drink.jpg', 'berocca.jpg', 'berzerk.jpg', 'best-choice-energy-drink-mix.jpg', 'bing-energy-drink.jpg', 'black-bruin-energy-drink.jpg', 'blu-frog-energy-drink.jpg', 'blue-bolt-energy-drink.jpg', 'asda-blue-charge.jpg', 'tesco-blue-spark.jpg', 'bodyarmour-edge.jpg', 'bomb-energy-drink.jpg', 'bomba-energy-drink.jpg', 'boost-energy-drink.jpg', 'brein-fuel-energy-drink.jpg', 'bucked-up.jpg', 'burn-uk.jpg', 'c4-on-the-go.jpg', 'c4-energy-drink.jpg', 'c4-smart-energy.jpg', 'c4-ultimate.jpg', 'carabao.jpg', 'celsius-energy-drink.jpg', 'celsius-stevia.jpg', 'cintron-energy-drink.jpg', 'club-mate.jpg', 'coca-cola-cherry-vanilla.jpg', 'coke-energy-drink.jpg', 'cocaine-energy-drink.jpg', 'cranenergy.jpg', 'crave-energy-drink-mix.jpg', 'crunk-energy-drink.jpg', 'crystal-light-energy.jpg', 'dark-dog-energy-drink.jpg', 'demon-energy.jpg', 'duff-energy-drink.jpg', 'blue-rebel-energy-drink.jpg', 'eboost-energy-drink.jpg', 'eboost-super-fuel.jpg', 'eboost-workout.jpg', 'electric-monkey-wild.jpg', 'enerbee.jpg', 'euroshopper-energy-drink.jpg', 'fakeer-energy-drink.jpg', 'freeway-cola.jpg', 'full-throttle-energy-drink.jpg', 'gatorade-energize.jpg', 'gatorade-fast-twitch.jpg', 'g-fuel-rtd-energy-drink.jpg', 'g-fuel-energy-drink-mix.jpg', 'ghost.jpg', 'go-fast-energy-drink.jpg', 'go-fast-high-octane.jpg', 'go-girl-energy-drink.jpg', 'goat-fuel.jpg', 'walmart-energy-drink-enhancer.jpg', 'walmart-energy-drink-mix.jpg', 'gridlock-aldi.jpg', 'guru.jpg', 'hell-energy-drink.jpg', 'hi-ball-energy-drink.jpg', 'hyde-xtreme.jpg', 'hype-energy-drinks.jpg', 'irn-bru-32-energy-drink.jpg', 'java-kick.jpg', 'java-monster.jpg', 'java-monster-triple-shot.jpg', 'joker-energy-drink.jpg', 'juice-monster.jpg', 'juvee.jpg', 'kill-cliff.jpg', 'kill-cliff-ignite-energy-drink.jpg', 'kin-euphorics.jpg', 'kona-gold.jpg', 'levlup.jpg', 'help-energy-drink.jpg', 'liquid-ice-energy-drink.jpg', 'lift-plus-energy-drink.jpg', 'lucozade.jpg', 'pure-lyft.jpg', 'm-150-energy-drink.jpg', 'mamma-chia-energy.jpg', 'marquis.jpg', 'mati.jpg', 'mega-monster-energy-drink.jpg', 'vpx-meltdown-1-keto.jpg', 'monster-assault-energy-drink.jpg', 'monster-dragon-tea.jpg', 'monster.jpg', 'monster-hydro.jpg', 'monster-import.jpg', 'monster-lo-carb-uk.jpg', 'monster-juiced-mango-loco.jpg', 'monster-mule.jpg', 'monster-nitro.jpg', 'monster-pipeline.jpg', 'monster-rehab-energy-drink.jpg', 'monster-reserve.jpg', 'monster-ripper.jpg', 'monster-doctor.jpg', 'monster-ultra-blue.jpg', 'monster-absolutely-zero-energy-drink.jpg', 'moose-juice.jpg', 'mother-new.jpg', 'amp-energy-drink.jpg', 'mtn-dew-energy.jpg', 'mountain-dew-game-fuel.jpg', 'mountain-dew-spark.jpg', 'muscle-monster-energy-drink.jpg', 'nerd-energy-drink.jpg', 'neurosonic.jpg', 'nocco.jpg', 'nos-energy-drink.jpg', 'nuun-energy-tabs.jpg', 'oca-plant-based-energy-drink.jpg', 'octane-energy-drink.jpg', 'oikos-caffeinated-yogurt-drink.jpg', 'ok-energy-drink.jpg', 'oli-pop-vintage-cola.jpg', 'endurelite-performelite.jpg', 'perk-energy.jpg', 'power-horse-energy-drink.jpg', 'prime-energy-drink.jpg', 'propel-zero.jpg', 'protein2o-energy.jpg', 'pure-boost.jpg', 'pure-coffein.jpg', 'pure-kick-energy-drink.jpg', 'quake-energy-slurpee.jpg', 'quake-7-eleven.jpg', 'rambler-energy-drink.jpg', 'raze-energy-drink.jpg', 'red-bull.jpg', 'red-bull-editions.jpg', 'sugar-free-red-bull.jpg', 'red-bull-total-zero.jpg', 'red-devil-energy-drink.jpg', 'red-eye-energy-drink.jpg', 'red-elixir.jpg', 'aldi-red-thunder.jpg', 'redline-princess.jpg', 'redline-xtreme-drink.jpg', 'reign-storm.jpg', 'reign-energy-drink.jpg', 'rip-it-energy-drink.jpg', 'roaring-lion-energy-drink.jpg', 'rockstar-boom-energy-drink.jpg', 'rockstar.jpg', 'rockstar-halo-infinite-energy-drink.jpg', 'rockstar-juiced.jpg', 'rockstar-organic.jpg', 'rockstar-citrus-punched.jpg', 'rockstar-pure-zero.jpg', 'rockstar-recovery-energy-hydration.jpg', 'rockstar-sugar-free.jpg', 'rockstar-thermo-energy-drink.jpg', 'rockstar-unplugged.jpg', 'rockstar-xdurance-energy-drink.jpg', 'rockstar-zero-carb.jpg', 'rogue-energy-drink.jpg', 'rogue-energy-drink-mix.jpg', 'rootjack-caffeinated-pirate-root-beer.jpg', 'rowdy-energy-drink.jpg', 'runa-clean-energy-drink.jpg', 'rush-energy.jpg', 'ryse-fuel.jpg', 'amazon-energy-drink.jpg', 'scheckters-organic-energy-energy.jpg', 'slammers-energy-drink.jpg', 'sneak-mix.jpg', 'sobe-energy-citrus.jpg', 'solimo-energy-drink.jpg', 'source-energy-drink.jpg', 'soylent.jpg', 'advocare-spark.jpg', 'speed-fuel-energy-drink-robby-gordon.jpg', 'spider-energy-drink.jpg', 'spike-shotgun.jpg', 'spike-shooter.jpg', 'starbucks-triple-shot.jpg', 'steaz-organic-energy-drink-berry.jpg', 'sting.jpg', 'strike-force.jpg', 't-virus-energy-drink.jpg', 'taurus-energy-drink.jpg', 'tenzing.jpg', 'tiger-energy-drink.jpg', 'triton-energy-drink-7-eleven.jpg', 'truenergy.jpg', 'true-lemon.jpg', 'tweaker-energy-drink.jpg', 'ugly-energy-water.jpg', 'up-time-energy-drink.jpg', 'rev3-energy-drink.jpg', 'v.jpg', 'v8-fusion-energy-drink.jpg', 'venom-death-adder.jpg', 'virtue-energy.jpg', 'viso-energy-drink.jpg', 'vuum.jpg', 'wild-tiger-energy-drink.jpg', 'wildcat-energy-drink.jpg', 'wired-x-3000-energy-drink.jpg', 'wired-x-berry-rush-energy-drink.jpg', 'wired-x344-energy-drink.jpg', 'x-ray-energy-drink.jpg', 'xl-energy-drink.jpg', 'xs-energy-drink.jpg', 'xenergy-energy-drink.jpg', 'zest-sparkling-tea.jpg', 'zevia-energy.jpg', 'zipfizz-energy-drink-mix.jpg', 'zoa-energy-drink.jpg']\n"
     ]
    },
    {
     "ename": "HTTPError",
     "evalue": "HTTP Error 404: Not Found",
     "output_type": "error",
     "traceback": [
      "\u001b[0;31m---------------------------------------------------------------------------\u001b[0m",
      "\u001b[0;31mHTTPError\u001b[0m                                 Traceback (most recent call last)",
      "Cell \u001b[0;32mIn[36], line 7\u001b[0m\n\u001b[1;32m      5\u001b[0m \u001b[38;5;28mprint\u001b[39m(img_names)\n\u001b[1;32m      6\u001b[0m \u001b[38;5;28;01mfor\u001b[39;00m name \u001b[38;5;129;01min\u001b[39;00m img_names:\n\u001b[0;32m----> 7\u001b[0m     img \u001b[38;5;241m=\u001b[39m Image\u001b[38;5;241m.\u001b[39mopen(\u001b[43murlopen\u001b[49m\u001b[43m(\u001b[49m\u001b[43mbase_url\u001b[49m\u001b[43m \u001b[49m\u001b[38;5;241;43m+\u001b[39;49m\u001b[43m \u001b[49m\u001b[43mname\u001b[49m\u001b[43m)\u001b[49m)\n\u001b[1;32m      8\u001b[0m     img\u001b[38;5;241m.\u001b[39msave(\u001b[38;5;124m\"\u001b[39m\u001b[38;5;124mfeine_data/\u001b[39m\u001b[38;5;124m\"\u001b[39m\u001b[38;5;241m+\u001b[39mname)\n",
      "File \u001b[0;32m~/anaconda3/envs/mlenv/lib/python3.9/urllib/request.py:214\u001b[0m, in \u001b[0;36murlopen\u001b[0;34m(url, data, timeout, cafile, capath, cadefault, context)\u001b[0m\n\u001b[1;32m    212\u001b[0m \u001b[38;5;28;01melse\u001b[39;00m:\n\u001b[1;32m    213\u001b[0m     opener \u001b[38;5;241m=\u001b[39m _opener\n\u001b[0;32m--> 214\u001b[0m \u001b[38;5;28;01mreturn\u001b[39;00m \u001b[43mopener\u001b[49m\u001b[38;5;241;43m.\u001b[39;49m\u001b[43mopen\u001b[49m\u001b[43m(\u001b[49m\u001b[43murl\u001b[49m\u001b[43m,\u001b[49m\u001b[43m \u001b[49m\u001b[43mdata\u001b[49m\u001b[43m,\u001b[49m\u001b[43m \u001b[49m\u001b[43mtimeout\u001b[49m\u001b[43m)\u001b[49m\n",
      "File \u001b[0;32m~/anaconda3/envs/mlenv/lib/python3.9/urllib/request.py:523\u001b[0m, in \u001b[0;36mOpenerDirector.open\u001b[0;34m(self, fullurl, data, timeout)\u001b[0m\n\u001b[1;32m    521\u001b[0m \u001b[38;5;28;01mfor\u001b[39;00m processor \u001b[38;5;129;01min\u001b[39;00m \u001b[38;5;28mself\u001b[39m\u001b[38;5;241m.\u001b[39mprocess_response\u001b[38;5;241m.\u001b[39mget(protocol, []):\n\u001b[1;32m    522\u001b[0m     meth \u001b[38;5;241m=\u001b[39m \u001b[38;5;28mgetattr\u001b[39m(processor, meth_name)\n\u001b[0;32m--> 523\u001b[0m     response \u001b[38;5;241m=\u001b[39m \u001b[43mmeth\u001b[49m\u001b[43m(\u001b[49m\u001b[43mreq\u001b[49m\u001b[43m,\u001b[49m\u001b[43m \u001b[49m\u001b[43mresponse\u001b[49m\u001b[43m)\u001b[49m\n\u001b[1;32m    525\u001b[0m \u001b[38;5;28;01mreturn\u001b[39;00m response\n",
      "File \u001b[0;32m~/anaconda3/envs/mlenv/lib/python3.9/urllib/request.py:632\u001b[0m, in \u001b[0;36mHTTPErrorProcessor.http_response\u001b[0;34m(self, request, response)\u001b[0m\n\u001b[1;32m    629\u001b[0m \u001b[38;5;66;03m# According to RFC 2616, \"2xx\" code indicates that the client's\u001b[39;00m\n\u001b[1;32m    630\u001b[0m \u001b[38;5;66;03m# request was successfully received, understood, and accepted.\u001b[39;00m\n\u001b[1;32m    631\u001b[0m \u001b[38;5;28;01mif\u001b[39;00m \u001b[38;5;129;01mnot\u001b[39;00m (\u001b[38;5;241m200\u001b[39m \u001b[38;5;241m<\u001b[39m\u001b[38;5;241m=\u001b[39m code \u001b[38;5;241m<\u001b[39m \u001b[38;5;241m300\u001b[39m):\n\u001b[0;32m--> 632\u001b[0m     response \u001b[38;5;241m=\u001b[39m \u001b[38;5;28;43mself\u001b[39;49m\u001b[38;5;241;43m.\u001b[39;49m\u001b[43mparent\u001b[49m\u001b[38;5;241;43m.\u001b[39;49m\u001b[43merror\u001b[49m\u001b[43m(\u001b[49m\n\u001b[1;32m    633\u001b[0m \u001b[43m        \u001b[49m\u001b[38;5;124;43m'\u001b[39;49m\u001b[38;5;124;43mhttp\u001b[39;49m\u001b[38;5;124;43m'\u001b[39;49m\u001b[43m,\u001b[49m\u001b[43m \u001b[49m\u001b[43mrequest\u001b[49m\u001b[43m,\u001b[49m\u001b[43m \u001b[49m\u001b[43mresponse\u001b[49m\u001b[43m,\u001b[49m\u001b[43m \u001b[49m\u001b[43mcode\u001b[49m\u001b[43m,\u001b[49m\u001b[43m \u001b[49m\u001b[43mmsg\u001b[49m\u001b[43m,\u001b[49m\u001b[43m \u001b[49m\u001b[43mhdrs\u001b[49m\u001b[43m)\u001b[49m\n\u001b[1;32m    635\u001b[0m \u001b[38;5;28;01mreturn\u001b[39;00m response\n",
      "File \u001b[0;32m~/anaconda3/envs/mlenv/lib/python3.9/urllib/request.py:561\u001b[0m, in \u001b[0;36mOpenerDirector.error\u001b[0;34m(self, proto, *args)\u001b[0m\n\u001b[1;32m    559\u001b[0m \u001b[38;5;28;01mif\u001b[39;00m http_err:\n\u001b[1;32m    560\u001b[0m     args \u001b[38;5;241m=\u001b[39m (\u001b[38;5;28mdict\u001b[39m, \u001b[38;5;124m'\u001b[39m\u001b[38;5;124mdefault\u001b[39m\u001b[38;5;124m'\u001b[39m, \u001b[38;5;124m'\u001b[39m\u001b[38;5;124mhttp_error_default\u001b[39m\u001b[38;5;124m'\u001b[39m) \u001b[38;5;241m+\u001b[39m orig_args\n\u001b[0;32m--> 561\u001b[0m     \u001b[38;5;28;01mreturn\u001b[39;00m \u001b[38;5;28;43mself\u001b[39;49m\u001b[38;5;241;43m.\u001b[39;49m\u001b[43m_call_chain\u001b[49m\u001b[43m(\u001b[49m\u001b[38;5;241;43m*\u001b[39;49m\u001b[43margs\u001b[49m\u001b[43m)\u001b[49m\n",
      "File \u001b[0;32m~/anaconda3/envs/mlenv/lib/python3.9/urllib/request.py:494\u001b[0m, in \u001b[0;36mOpenerDirector._call_chain\u001b[0;34m(self, chain, kind, meth_name, *args)\u001b[0m\n\u001b[1;32m    492\u001b[0m \u001b[38;5;28;01mfor\u001b[39;00m handler \u001b[38;5;129;01min\u001b[39;00m handlers:\n\u001b[1;32m    493\u001b[0m     func \u001b[38;5;241m=\u001b[39m \u001b[38;5;28mgetattr\u001b[39m(handler, meth_name)\n\u001b[0;32m--> 494\u001b[0m     result \u001b[38;5;241m=\u001b[39m \u001b[43mfunc\u001b[49m\u001b[43m(\u001b[49m\u001b[38;5;241;43m*\u001b[39;49m\u001b[43margs\u001b[49m\u001b[43m)\u001b[49m\n\u001b[1;32m    495\u001b[0m     \u001b[38;5;28;01mif\u001b[39;00m result \u001b[38;5;129;01mis\u001b[39;00m \u001b[38;5;129;01mnot\u001b[39;00m \u001b[38;5;28;01mNone\u001b[39;00m:\n\u001b[1;32m    496\u001b[0m         \u001b[38;5;28;01mreturn\u001b[39;00m result\n",
      "File \u001b[0;32m~/anaconda3/envs/mlenv/lib/python3.9/urllib/request.py:641\u001b[0m, in \u001b[0;36mHTTPDefaultErrorHandler.http_error_default\u001b[0;34m(self, req, fp, code, msg, hdrs)\u001b[0m\n\u001b[1;32m    640\u001b[0m \u001b[38;5;28;01mdef\u001b[39;00m \u001b[38;5;21mhttp_error_default\u001b[39m(\u001b[38;5;28mself\u001b[39m, req, fp, code, msg, hdrs):\n\u001b[0;32m--> 641\u001b[0m     \u001b[38;5;28;01mraise\u001b[39;00m HTTPError(req\u001b[38;5;241m.\u001b[39mfull_url, code, msg, hdrs, fp)\n",
      "\u001b[0;31mHTTPError\u001b[0m: HTTP Error 404: Not Found"
     ]
    }
   ],
   "source": [
    "from PIL import Image\n",
    "from urllib.request import urlopen\n",
    "\n",
    "img_names = feine_df[feine_df.columns[0]].values.tolist()\n",
    "print(img_names)\n",
    "for name in img_names:\n",
    "    img = Image.open(urlopen(base_url + name))\n",
    "    img.save(\"feine_data/\"+name)\n",
    "\n"
   ]
  },
  {
   "cell_type": "code",
   "execution_count": null,
   "metadata": {},
   "outputs": [],
   "source": []
  }
 ],
 "metadata": {
  "kernelspec": {
   "display_name": "mlenv",
   "language": "python",
   "name": "python3"
  },
  "language_info": {
   "codemirror_mode": {
    "name": "ipython",
    "version": 3
   },
   "file_extension": ".py",
   "mimetype": "text/x-python",
   "name": "python",
   "nbconvert_exporter": "python",
   "pygments_lexer": "ipython3",
   "version": "3.9.19"
  }
 },
 "nbformat": 4,
 "nbformat_minor": 2
}
