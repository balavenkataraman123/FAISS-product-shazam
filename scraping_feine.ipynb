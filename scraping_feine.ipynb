{
 "cells": [
  {
   "cell_type": "code",
   "execution_count": 1,
   "metadata": {},
   "outputs": [
    {
     "ename": "XMLSyntaxError",
     "evalue": "no text parsed from document (<string>, line 0)",
     "output_type": "error",
     "traceback": [
      "Traceback \u001b[0;36m(most recent call last)\u001b[0m:\n",
      "\u001b[0m  File \u001b[1;32m~/anaconda3/envs/mlenv/lib/python3.9/site-packages/IPython/core/interactiveshell.py:3550\u001b[0m in \u001b[1;35mrun_code\u001b[0m\n    exec(code_obj, self.user_global_ns, self.user_ns)\u001b[0m\n",
      "\u001b[0m  Cell \u001b[1;32mIn[1], line 8\u001b[0m\n    feine_df = pd.read_html('/home/bala/Documents/product_ID.ai/feine.html', extract_links = \"all\")[0]\u001b[0m\n",
      "\u001b[0m  File \u001b[1;32m~/anaconda3/envs/mlenv/lib/python3.9/site-packages/pandas/io/html.py:1240\u001b[0m in \u001b[1;35mread_html\u001b[0m\n    return _parse(\u001b[0m\n",
      "\u001b[0m  File \u001b[1;32m~/anaconda3/envs/mlenv/lib/python3.9/site-packages/pandas/io/html.py:983\u001b[0m in \u001b[1;35m_parse\u001b[0m\n    tables = p.parse_tables()\u001b[0m\n",
      "\u001b[0m  File \u001b[1;32m~/anaconda3/envs/mlenv/lib/python3.9/site-packages/pandas/io/html.py:249\u001b[0m in \u001b[1;35mparse_tables\u001b[0m\n    tables = self._parse_tables(self._build_doc(), self.match, self.attrs)\u001b[0m\n",
      "\u001b[0;36m  File \u001b[0;32m~/anaconda3/envs/mlenv/lib/python3.9/site-packages/pandas/io/html.py:809\u001b[0;36m in \u001b[0;35m_build_doc\u001b[0;36m\n\u001b[0;31m    raise XMLSyntaxError(\"no text parsed from document\", 0, 0, 0)\u001b[0;36m\n",
      "\u001b[0;36m  File \u001b[0;32m<string>\u001b[0;36m\u001b[0m\n\u001b[0;31mXMLSyntaxError\u001b[0m\u001b[0;31m:\u001b[0m no text parsed from document\n"
     ]
    }
   ],
   "source": [
    "import pandas as pd\n",
    "\n",
    "import urllib.request\n",
    "\n",
    "\n",
    "base_url = \"https://www.caffeineinformer.com/wp-content/caffeine/\"\n",
    "\n",
    "feine_df = pd.read_html('/home/bala/Documents/product_ID.ai/feine.html', extract_links = \"all\")[0]\n",
    "feine_df = feine_df.apply(lambda col: [v[0] if v[1] is None else f'{v[1].split(\"/\")[2]}.jpg' for v in  col])\n",
    "\n",
    "feine_df.head()\n"
   ]
  }
 ],
 "metadata": {
  "kernelspec": {
   "display_name": "mlenv",
   "language": "python",
   "name": "python3"
  },
  "language_info": {
   "codemirror_mode": {
    "name": "ipython",
    "version": 3
   },
   "file_extension": ".py",
   "mimetype": "text/x-python",
   "name": "python",
   "nbconvert_exporter": "python",
   "pygments_lexer": "ipython3",
   "version": "3.9.19"
  }
 },
 "nbformat": 4,
 "nbformat_minor": 2
}
